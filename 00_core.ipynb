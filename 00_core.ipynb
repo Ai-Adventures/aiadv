{
 "cells": [
  {
   "cell_type": "code",
   "execution_count": null,
   "metadata": {
    "Collapsed": "false"
   },
   "outputs": [],
   "source": [
    "# default_exp core"
   ]
  },
  {
   "cell_type": "markdown",
   "metadata": {
    "Collapsed": "false"
   },
   "source": [
    "# Core\n",
    "\n",
    "> API details."
   ]
  },
  {
   "cell_type": "code",
   "execution_count": 1,
   "metadata": {
    "Collapsed": "false"
   },
   "outputs": [],
   "source": [
    "#hide\n",
    "from nbdev.showdoc import *"
   ]
  },
  {
   "cell_type": "code",
   "execution_count": 112,
   "metadata": {
    "Collapsed": "false"
   },
   "outputs": [],
   "source": [
    "#export\n",
    "import os\n",
    "import shutil\n",
    "import requests\n",
    "from pathlib import Path\n",
    "from fastprogress import progress_bar\n",
    "import zipfile, tarfile "
   ]
  },
  {
   "cell_type": "code",
   "execution_count": 11,
   "metadata": {
    "Collapsed": "false"
   },
   "outputs": [],
   "source": [
    "#export\n",
    "class Config:\n",
    "    config_path = Path('~/.aiadv').expanduser()\n",
    "    def __init__(self):\n",
    "        self.config_path.mkdir(parents=True, exist_ok=True)\n",
    "\n",
    "#export\n",
    "class URLs:   \n",
    "    GDRIVE = \"https://docs.google.com/uc?export=download&id=\"\n",
    "    \n",
    "    # Datasets\n",
    "    YELP_REIVEWS      = {'url': f'{GDRIVE}1Lmv4rsJiCWVs1nzs4ywA9YI-ADsTf6WB', 'fname': 'yelp_reveiw.csv'}\n",
    "    ENG_FRA_SAMPLE    = {'url': f'{GDRIVE}1jLx6dZllBQ3LXZkCjZ4VciMQkZUInU10', 'fname': 'eng_fra_sample.csv'}\n",
    "    ENG_FRA           = {'url': f'{GDRIVE}1o2ac0EliUod63sYUdpow_Dh-OqS3hF5Z', 'fname': 'eng_fra.txt'}\n",
    "    SURNAMES          = {'url': f'{GDRIVE}1T1la2tYO1O7XkMRawG8VcFcvtjbxDqU-', 'fname': 'surnames.csv'}\n",
    "    CHD_49            = {'url': f'{GDRIVE}11yU-64VW4b9_tw-yWPUcnQ0A3-Uh-dd9', 'fname': 'chd_49.zip'}\n",
    "    \n",
    "    ADV_SHERLOCK      = {'url': 'https://norvig.com/big.txt', 'fname': 'adv_sherlock.txt'}    \n",
    "    HUMAN_NUMBERS     = {'url': 'http://files.fast.ai/data/examples/human_numbers.tgz', 'fname': 'human_numbers.tgz'}    \n",
    "    MOVIELENS_SMALL   = {'url': 'http://files.grouplens.org/datasets/movielens/ml-latest-small.zip', 'fname': 'ml-latest-small.zip'}\n",
    "        \n",
    "    def path(ds=None):\n",
    "        fname = ds['fname']\n",
    "        path = Config().config_path/fname\n",
    "        return path\n",
    "    \n",
    "    def stem(path):\n",
    "        if str(path).endswith('gz') or str(path).endswith('zip'):\n",
    "            parent = path.parent\n",
    "            return parent/path.stem\n",
    "        else: return path"
   ]
  },
  {
   "cell_type": "code",
   "execution_count": null,
   "metadata": {
    "Collapsed": "false"
   },
   "outputs": [],
   "source": [
    "#export\n",
    "def download_data(ds, force_download=False):\n",
    "    \"Download `url` to `fname`.\"\n",
    "    dest = URLs.path(ds)\n",
    "    if not dest.exists() or force_download: \n",
    "        download_url(ds['url'], dest, overwrite=force_download)\n",
    "    return dest\n",
    "\n",
    "def file_extract(fname, dest=None):\n",
    "    \"Extract `fname` using `tarfile` or `zipfile\"\n",
    "    fname_str = str(fname)\n",
    "    if dest is None: dest = Path(fname).parent\n",
    "    \n",
    "    if fname_str.endswith('gz'   ): tarfile.open(fname, 'r:gz').extractall(dest)\n",
    "    elif fname_str.endswith('zip'): zipfile.ZipFile(fname     ).extractall(dest)\n",
    "    else: raise Exception(f'Unrecognized archive: {fname}')\n",
    "    \n",
    "    # cleaning up\n",
    "    os.remove(fname)\n",
    "\n",
    "def download_url(url, dest, overwrite=False, pbar=None, show_progress=True, chunk_size=1024*1024,\n",
    "                 timeout=4, retries=5):\n",
    "    \"Download `url` to `dest` unless it exists and not `overwrite`\"\n",
    "    if os.path.exists(dest) and not overwrite: return\n",
    "\n",
    "    s = requests.Session()\n",
    "    s.mount('http://',requests.adapters.HTTPAdapter(max_retries=retries))\n",
    "    # additional line to identify as a firefox browser, see fastai/#2438\n",
    "    s.headers.update({'User-Agent': 'Mozilla/5.0 (X11; Ubuntu; Linux x86_64; rv:71.0) Gecko/20100101 Firefox/71.0'})\n",
    "    u = s.get(url, stream=True, timeout=timeout)\n",
    "    try: file_size = int(u.headers[\"Content-Length\"])\n",
    "    except: show_progress = False\n",
    "\n",
    "    with open(dest, 'wb') as f:\n",
    "        nbytes = 0\n",
    "        if show_progress: pbar = progress_bar(range(file_size), leave=False, parent=pbar)\n",
    "        try:\n",
    "            if show_progress: pbar.update(0)\n",
    "            for chunk in u.iter_content(chunk_size=chunk_size):\n",
    "                nbytes += len(chunk)\n",
    "                if show_progress: pbar.update(nbytes)\n",
    "                f.write(chunk)\n",
    "        except requests.exceptions.ConnectionError as e:\n",
    "            print('Connection Error, please check your internet')"
   ]
  },
  {
   "cell_type": "code",
   "execution_count": 196,
   "metadata": {
    "Collapsed": "false"
   },
   "outputs": [],
   "source": [
    "#export\n",
    "def untar_data(ds, force_download=False, extract_func=file_extract):\n",
    "    dest = URLs.path(ds)\n",
    "    stem = URLs.stem(dest)\n",
    "    fname = ds['fname']\n",
    "    if force_download:\n",
    "        if stem.exists(): \n",
    "            try: os.remove(stem)\n",
    "            except: shutil.rmtree(stem)\n",
    "    if not stem.exists():\n",
    "        download_data(ds)\n",
    "        if str(fname).endswith('zip') or str(fname).endswith('gz'):\n",
    "            extract_func(dest)\n",
    "    return stem"
   ]
  },
  {
   "cell_type": "code",
   "execution_count": 208,
   "metadata": {
    "Collapsed": "false"
   },
   "outputs": [
    {
     "name": "stdout",
     "output_type": "stream",
     "text": [
      "Trying to fetch eng_fra.txt\n"
     ]
    },
    {
     "data": {
      "application/vnd.jupyter.widget-view+json": {
       "model_id": "f02fc4b4a30d4166806f9750bccd22ec",
       "version_major": 2,
       "version_minor": 0
      },
      "text/plain": [
       "HBox(children=(FloatProgress(value=1.0, bar_style='info', max=1.0), HTML(value='')))"
      ]
     },
     "metadata": {},
     "output_type": "display_data"
    }
   ],
   "source": [
    "path = untar_data(URLs.ENG_FRA, True)"
   ]
  },
  {
   "cell_type": "code",
   "execution_count": 209,
   "metadata": {
    "Collapsed": "false"
   },
   "outputs": [
    {
     "data": {
      "text/plain": [
       "'/home/ankur/.aiadv/eng_fra.txt'"
      ]
     },
     "execution_count": 209,
     "metadata": {},
     "output_type": "execute_result"
    }
   ],
   "source": [
    "path"
   ]
  },
  {
   "cell_type": "code",
   "execution_count": 217,
   "metadata": {
    "Collapsed": "false"
   },
   "outputs": [
    {
     "name": "stdout",
     "output_type": "stream",
     "text": [
      "total 30M\n",
      "15M -rw-rw-rw- 1 ankur ankur 9.1M Jun 16 01:40 eng_fra.txt\n",
      "  0 drwxrwxrwx 1 ankur ankur  512 Jun 16 01:36 movie_lens_sample\n",
      "15M -rw-rw-rw- 1 ankur ankur  11M Jun 16 01:38 yelp_reveiw.csv\n"
     ]
    }
   ],
   "source": [
    "!ls -lsh /home/ankur/.aiadv/"
   ]
  },
  {
   "cell_type": "code",
   "execution_count": 218,
   "metadata": {
    "Collapsed": "false"
   },
   "outputs": [
    {
     "name": "stdout",
     "output_type": "stream",
     "text": [
      "Converted 00_core.ipynb.\n",
      "Converted index.ipynb.\n"
     ]
    }
   ],
   "source": [
    "from nbdev.export import *\n",
    "notebook2script()"
   ]
  },
  {
   "cell_type": "code",
   "execution_count": null,
   "metadata": {
    "Collapsed": "false"
   },
   "outputs": [],
   "source": []
  }
 ],
 "metadata": {
  "kernelspec": {
   "display_name": "fastai",
   "language": "python",
   "name": "fastai"
  },
  "language_info": {
   "codemirror_mode": {
    "name": "ipython",
    "version": 3
   },
   "file_extension": ".py",
   "mimetype": "text/x-python",
   "name": "python",
   "nbconvert_exporter": "python",
   "pygments_lexer": "ipython3",
   "version": "3.8.3"
  }
 },
 "nbformat": 4,
 "nbformat_minor": 4
}
