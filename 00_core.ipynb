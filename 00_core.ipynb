{
 "cells": [
  {
   "cell_type": "code",
   "execution_count": null,
   "metadata": {
    "Collapsed": "false"
   },
   "outputs": [],
   "source": [
    "# default_exp core"
   ]
  },
  {
   "cell_type": "markdown",
   "metadata": {
    "Collapsed": "false"
   },
   "source": [
    "# module name here\n",
    "\n",
    "> API details."
   ]
  },
  {
   "cell_type": "code",
   "execution_count": 1,
   "metadata": {
    "Collapsed": "false"
   },
   "outputs": [],
   "source": [
    "#hide\n",
    "from nbdev.showdoc import *"
   ]
  },
  {
   "cell_type": "code",
   "execution_count": 112,
   "metadata": {
    "Collapsed": "false"
   },
   "outputs": [],
   "source": [
    "#export\n",
    "import os\n",
    "import shutil\n",
    "import requests\n",
    "from pathlib import Path\n",
    "from tqdm.notebook import tqdm\n",
    "import zipfile, tarfile "
   ]
  },
  {
   "cell_type": "code",
   "execution_count": 89,
   "metadata": {
    "Collapsed": "false"
   },
   "outputs": [],
   "source": [
    "#export\n",
    "class Config:\n",
    "    config_path = Path('~/.aiadv').expanduser()\n",
    "    def __init__(self):\n",
    "        self.config_path.mkdir(parents=True, exist_ok=True)"
   ]
  },
  {
   "cell_type": "code",
   "execution_count": 186,
   "metadata": {
    "Collapsed": "false"
   },
   "outputs": [],
   "source": [
    "#export\n",
    "class URLs:    \n",
    "    # Datasets\n",
    "    YELP_REIVEWS      = {'id': '1G42LXv72DrhK4QKJoFhabVL4IU6v2ZvB',\n",
    "                         'fname': 'yelp_reveiw.csv'}\n",
    "    \n",
    "    MOVIE_LENS_SAMPLE = {'id': '1k2y0qC0E3oHeGA5a427hRgfbW7hnQBgF',\n",
    "                         'fname': 'movie_lens_sample.zip'}\n",
    "    \n",
    "    ENG_FRA           = {'id': '1dU-cTcPxHlpoFMnWe21jB4n6GRJdLdJO',\n",
    "                         'fname': 'eng_fra.txt'}\n",
    "    \n",
    "    def path(ds=None):\n",
    "        fname = ds['fname'] \n",
    "        path = Config.config_path/fname\n",
    "        return path\n",
    "    \n",
    "    def stem(path):\n",
    "        if str(path).endswith('gz') or str(path).endswith('zip'):\n",
    "            parent = path.parent\n",
    "            return parent/path.stem\n",
    "        else: return path"
   ]
  },
  {
   "cell_type": "code",
   "execution_count": 213,
   "metadata": {
    "Collapsed": "false",
    "slideshow": {
     "slide_type": "slide"
    }
   },
   "outputs": [],
   "source": [
    "#export\n",
    "def download_data(ds, force_download=False):\n",
    "    \"Download `url` to `fname`.\"\n",
    "    dest = URLs.path(ds)\n",
    "    dest.parent.mkdir(parents=True, exist_ok=True)\n",
    "    if not dest.exists() or force_download: \n",
    "        download_file_from_google_drive(ds['id'], dest, overwrite=force_download)\n",
    "    return dest"
   ]
  },
  {
   "cell_type": "code",
   "execution_count": 213,
   "metadata": {
    "Collapsed": "false",
    "slideshow": {
     "slide_type": "slide"
    }
   },
   "outputs": [],
   "source": [
    "#export\n",
    "def file_extract(fname):\n",
    "    \"Extract `fname` using `tarfile` or `zipfile\"\n",
    "    fname_str = str(fname)\n",
    "    \n",
    "    if fname_str.endswith('gz'):\n",
    "        dest = URLs.stem(fname)\n",
    "        tarfile.open(fname, 'r:gz').extractall(dest)\n",
    "        os.remove(fname)\n",
    "        return dest\n",
    "    \n",
    "    elif fname_str.endswith('zip'): \n",
    "        dest = URLs.stem(fname)\n",
    "        zipfile.ZipFile(fname).extractall(dest)\n",
    "        os.remove(fname)\n",
    "        return dest\n",
    "    \n",
    "    elif fname_str.endswith('csv') or fname_str.endswith('txt'): return fname\n",
    "    \n",
    "    else: raise Exception(f'Unrecognized archive: {fname}')"
   ]
  },
  {
   "cell_type": "code",
   "execution_count": 214,
   "metadata": {
    "Collapsed": "false"
   },
   "outputs": [],
   "source": [
    "#export\n",
    "def download_file_from_google_drive(id, dest, overwrite=False):\n",
    "    \"Download `url` to `dest` unless it exists and not `overwrite`\"\n",
    "    if os.path.exists(dest) and not overwrite: return\n",
    "\n",
    "    print(\"Trying to fetch {}\".format(dest.name))\n",
    "\n",
    "    def get_confirm_token(response):\n",
    "        for key, value in response.cookies.items():\n",
    "            if key.startswith('download_warning'):\n",
    "                return value\n",
    "        return None\n",
    "\n",
    "    def save_response_content(response, destination, pbar=None):\n",
    "        CHUNK_SIZE = 1024*1024\n",
    "        show_progress = True\n",
    "        try: file_size = int(response.headers[\"Content-Length\"])\n",
    "        except: show_progress = False\n",
    "            \n",
    "        with open(destination, \"wb\") as f:\n",
    "            if show_progress: pbar = tqdm(unit=\"MB\", total=int(file_size/CHUNK_SIZE))\n",
    "            else: pbar = tqdm(unit=\"MB\")\n",
    "                \n",
    "            for chunk in response.iter_content(CHUNK_SIZE):\n",
    "                if chunk: # filter out keep-alive new chunks\n",
    "                    pbar.update()\n",
    "                    f.write(chunk)\n",
    "\n",
    "    URL = \"https://docs.google.com/uc?export=download\"\n",
    "    session = requests.Session()\n",
    "    response = session.get(URL, params = { 'id' : id }, stream = True)\n",
    "    token = get_confirm_token(response)\n",
    "\n",
    "    if token:\n",
    "        params = { 'id' : id, 'confirm' : token }\n",
    "        response = session.get(URL, params = params, stream = True)\n",
    "\n",
    "    save_response_content(response, dest)"
   ]
  },
  {
   "cell_type": "code",
   "execution_count": 196,
   "metadata": {
    "Collapsed": "false"
   },
   "outputs": [],
   "source": [
    "#export\n",
    "def untar_data(ds, force_download=False, extract_func=file_extract):\n",
    "    dest = URLs.path(ds)\n",
    "    stem = URLs.stem(dest)\n",
    "    fname = ds['fname']\n",
    "    if force_download:\n",
    "        if stem.exists(): \n",
    "            try: os.remove(stem)\n",
    "            except: shutil.rmtree(stem)\n",
    "    if not stem.exists():\n",
    "        download_data(ds)\n",
    "        path=extract_func(dest)\n",
    "        return path\n",
    "    return stem"
   ]
  },
  {
   "cell_type": "code",
   "execution_count": 208,
   "metadata": {
    "Collapsed": "false"
   },
   "outputs": [
    {
     "name": "stdout",
     "output_type": "stream",
     "text": [
      "Trying to fetch eng_fra.txt\n"
     ]
    },
    {
     "data": {
      "application/vnd.jupyter.widget-view+json": {
       "model_id": "f02fc4b4a30d4166806f9750bccd22ec",
       "version_major": 2,
       "version_minor": 0
      },
      "text/plain": [
       "HBox(children=(FloatProgress(value=1.0, bar_style='info', max=1.0), HTML(value='')))"
      ]
     },
     "metadata": {},
     "output_type": "display_data"
    }
   ],
   "source": [
    "path = untar_data(URLs.ENG_FRA, True)"
   ]
  },
  {
   "cell_type": "code",
   "execution_count": 209,
   "metadata": {
    "Collapsed": "false"
   },
   "outputs": [
    {
     "data": {
      "text/plain": [
       "'/home/ankur/.aiadv/eng_fra.txt'"
      ]
     },
     "execution_count": 209,
     "metadata": {},
     "output_type": "execute_result"
    }
   ],
   "source": [
    "path"
   ]
  },
  {
   "cell_type": "code",
   "execution_count": 217,
   "metadata": {
    "Collapsed": "false"
   },
   "outputs": [
    {
     "name": "stdout",
     "output_type": "stream",
     "text": [
      "total 30M\n",
      "15M -rw-rw-rw- 1 ankur ankur 9.1M Jun 16 01:40 eng_fra.txt\n",
      "  0 drwxrwxrwx 1 ankur ankur  512 Jun 16 01:36 movie_lens_sample\n",
      "15M -rw-rw-rw- 1 ankur ankur  11M Jun 16 01:38 yelp_reveiw.csv\n"
     ]
    }
   ],
   "source": [
    "!ls -lsh /home/ankur/.aiadv/"
   ]
  },
  {
   "cell_type": "code",
   "execution_count": 218,
   "metadata": {
    "Collapsed": "false"
   },
   "outputs": [
    {
     "name": "stdout",
     "output_type": "stream",
     "text": [
      "Converted 00_core.ipynb.\n",
      "Converted index.ipynb.\n"
     ]
    }
   ],
   "source": [
    "from nbdev.export import *\n",
    "notebook2script()"
   ]
  },
  {
   "cell_type": "code",
   "execution_count": null,
   "metadata": {
    "Collapsed": "false"
   },
   "outputs": [],
   "source": []
  }
 ],
 "metadata": {
  "kernelspec": {
   "display_name": "fastai",
   "language": "python",
   "name": "fastai"
  },
  "language_info": {
   "codemirror_mode": {
    "name": "ipython",
    "version": 3
   },
   "file_extension": ".py",
   "mimetype": "text/x-python",
   "name": "python",
   "nbconvert_exporter": "python",
   "pygments_lexer": "ipython3",
   "version": "3.6.10"
  }
 },
 "nbformat": 4,
 "nbformat_minor": 4
}
